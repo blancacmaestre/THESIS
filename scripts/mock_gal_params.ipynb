{
 "cells": [
  {
   "cell_type": "code",
   "execution_count": null,
   "metadata": {},
   "outputs": [],
   "source": []
  },
  {
   "cell_type": "markdown",
   "metadata": {},
   "source": [
    "# MOCK GALAXY PARAMETERS"
   ]
  },
  {
   "cell_type": "markdown",
   "metadata": {},
   "source": [
    "**REMEMBER I AM WORKING ON ANACONDA HERE**"
   ]
  },
  {
   "cell_type": "markdown",
   "metadata": {},
   "source": [
    "In order to create the mock galaxies we have to set the following parameters for each radius (i have to change the value in order to create a realistic galaxy) -> create files with ring parameters:\n",
    "- **ROTATIONAL VELOCITY** ( with different rotation curves)\n",
    "- **DISPPERSION VELOCITY** (random motion of gas)\n",
    "- **SURFACE BRIGHTNESS** (density of mass essentially)\n",
    "- **INCLINATION** (warps)\n",
    "- **POSITION ANGLE** (warps)\n",
    "\n",
    "This code is to create the input files to run bbarolo with the correct parameters.\n",
    "\n",
    "Other parameters that I have to change for the entire galaxy are (IMPORTANT):\n",
    "- **RESOLUTION** (related to the beam size, i have to choose it taking in consideration the size of the galazy)\n",
    "- **SIGNAL TO NOISE RATIO** (relatedwith the total flux, i can create a noise cube and then add it to the mock galaxy, i want an specific N/S so i can calculate it with my source)"
   ]
  },
  {
   "cell_type": "code",
   "execution_count": 2,
   "metadata": {},
   "outputs": [],
   "source": [
    "import matplotlib.pyplot as plt\n",
    "import numpy as np\n",
    "import astropy as ap"
   ]
  },
  {
   "cell_type": "markdown",
   "metadata": {},
   "source": [
    "For this, first i have to create the file with the rings and choose the distance. \n",
    "- Do i choose the mean velocity or do i calculate the velocity in the middle? (same with other paraeters i guess)"
   ]
  },
  {
   "cell_type": "markdown",
   "metadata": {},
   "source": [
    "## Rotational velocity\n",
    "- i have to create different shapes of the velocity curve\n",
    "- the most common is the hyperbolic tangent \n",
    "- in the position-velocity graph (remember s shape is major axis) i can see the shape of the veloity with the shape of the two \"wings\" , so if its very straigt you have a kinda constant velocity. To observe the rotational velocity from the graph i can just substract the systemic velocity( the middle line of the graph), remember the negative velocity is guetting closer to us. Remember that in that graph we see the line of sight velocity not the actual velocity, we have to correct with the following equation:\n",
    "$$\n",
    "  v_{los}(x,y) = v_{sys} + v_{rot}(R)sin{i} cos{\\theta}\n",
    "$$\n"
   ]
  },
  {
   "cell_type": "code",
   "execution_count": 3,
   "metadata": {},
   "outputs": [],
   "source": [
    "####here i define all the velocity types that i will use ####\n",
    "def velcurvetan(vi, R): #vi is a single number and r is a list of values \n",
    "    vel = []\n",
    "    for r in R:\n",
    "        v = vi + np.tanh(r)\n",
    "        v = round(v, 3)\n",
    "        vel.append(v)\n",
    "    return vel\n",
    "\n",
    "def velcurvesame(vi, R): #vi is a single number and r is a list of values \n",
    "    vel = []\n",
    "    for r in R:\n",
    "        v = vi \n",
    "        v = round(v, 3)\n",
    "        vel.append(v)\n",
    "    return vel\n",
    "\n",
    "def velcurvedown(vi, R): #vi is a single number and r is a list of values \n",
    "    vel = []\n",
    "    for r in R:\n",
    "        v = vi - 0.002*(r)\n",
    "        v = round(v, 3)\n",
    "        vel.append(v)\n",
    "    return vel\n",
    "\n",
    "def velcurveexpo(vi, R): #vi is a single number and r is a list of values \n",
    "    vel = []\n",
    "    for r in R:\n",
    "        v = vi + np.sqrt(r) \n",
    "        v = round(v, 3)\n",
    "        vel.append(v)\n",
    "    return vel\n",
    "\n",
    "#vlos = vsys + vrot*np.sin(inc)*np.cos(theta)"
   ]
  },
  {
   "cell_type": "code",
   "execution_count": 4,
   "metadata": {},
   "outputs": [
    {
     "name": "stdout",
     "output_type": "stream",
     "text": [
      "[9.998, 9.994, 9.99, 9.986, 9.982, 9.978, 9.974, 9.97, 9.966, 9.962, 9.958, 9.954, 9.95, 9.947, 9.943, 9.939, 9.935, 9.931, 9.927, 9.923, 9.919, 9.915, 9.911, 9.907, 9.903, 9.899, 9.895, 9.891, 9.887, 9.883, 9.879, 9.875, 9.871, 9.867, 9.863, 9.859, 9.855, 9.851, 9.848, 9.844, 9.84, 9.836, 9.832, 9.828, 9.824, 9.82, 9.816, 9.812, 9.808, 9.804]\n"
     ]
    }
   ],
   "source": [
    "r = np.linspace(1, 100, 50,endpoint=False).tolist()\n",
    "vi = 10\n",
    "v= velcurvedown(vi, r,)\n",
    "print(v)\n",
    "#print(r)\n",
    "#plt.plot(r,v)\n",
    "#plt.ylim(0,10)\n",
    "#plt.show()\n",
    "\n"
   ]
  },
  {
   "cell_type": "markdown",
   "metadata": {},
   "source": [
    "## Dispersion velocity\n",
    "- random movements of the gas \n",
    "- we can see it in the velocity-position plot by the width\n",
    "- it normally reduces with radius \n",
    "- there are two main reasosn of random motion: temperature (kin energy) and turbulence (from SN explossions etc, a random burst of kinetic energy) --> check paper of Cecilia "
   ]
  },
  {
   "cell_type": "code",
   "execution_count": 5,
   "metadata": {},
   "outputs": [],
   "source": [
    "def dispdown(dii,R): #vi is a single number and r is a list of values \n",
    "    dis = []\n",
    "    for r in R:\n",
    "        d = dii - 0.02*(r)\n",
    "        d = round(d, 3)\n",
    "        dis.append(d)\n",
    "    return dis"
   ]
  },
  {
   "cell_type": "markdown",
   "metadata": {},
   "source": [
    "## Inclination\n",
    "- these create warps, we can see them in the velocity fields"
   ]
  },
  {
   "cell_type": "markdown",
   "metadata": {},
   "source": [
    "## Position angle"
   ]
  },
  {
   "cell_type": "markdown",
   "metadata": {},
   "source": [
    "## Surface brightness\n",
    "- normally an exponential profile --> stark exponential?"
   ]
  },
  {
   "cell_type": "code",
   "execution_count": 6,
   "metadata": {},
   "outputs": [],
   "source": [
    "def profexpo(li, R): #vi is a single number and r is a list of values \n",
    "    prof = []\n",
    "    for r in R:\n",
    "        l = li + r**(-2)\n",
    "        l = round(l, 3)\n",
    "        prof.append(l)\n",
    "    return prof\n"
   ]
  },
  {
   "cell_type": "markdown",
   "metadata": {},
   "source": [
    "# FILE CREATION"
   ]
  },
  {
   "cell_type": "markdown",
   "metadata": {},
   "source": [
    "In this section we will create the code that makes a file with all the ring information:\n",
    "\n",
    "We need to include the following parameters: \n",
    "- RAD(Kpc)  ,  RAD(arcs)  \n",
    "- VROT(km/s)  \n",
    "- DISP(km/s) \n",
    "- INC(deg)  \n",
    "- P.A.(deg)  \n",
    "- Z0(pc)  ,  Z0(arcs)  \n",
    "- SIG(E20)  \n",
    "- XPOS(pix) ,  YPOS(pix) \n",
    "- VSYS(km/s) \n",
    "- VRAD(km/s) "
   ]
  },
  {
   "cell_type": "code",
   "execution_count": 7,
   "metadata": {},
   "outputs": [],
   "source": [
    "def mockring(name, rkpc, rarc, vrot, disp, inc, pa, z0pc, zarc, sig, xpos, ypos, vsys, vrad):\n",
    "   \n",
    "    with open(name+\"_mockrings.txt\", 'w') as file:\n",
    "        file.write(\"# RAD(Kpc)\\tRAD(arcs)\\tVROT(km/s)\\tDISP(km/s)\\tINC(deg)\\tP.A.(deg)\\tZ0(pc)\\tZ0(arcs)\\tSIG(E20)\\tXPOS(pix)\\tYPOS(pix)\\tVSYS(km/s)\\tVRAD(km/s)\\n\")\n",
    "    # add \\tRAD(arcs) after rad kpc and \\tZ0(arcs) after tZ0 pc\n",
    "    # Write the rows\n",
    "        for rk,rar,vr,di,i,paa,z0p,za,si,x,y,vs,vra in zip(rkpc,rarc,vrot,disp,inc,pa,z0pc,zarc,sig,xpos,ypos,vsys,vrad):\n",
    "            file.write(f'{rk}\\t{rar}\\t{vr}\\t{di}\\t{i}\\t{paa}\\t{z0p}\\t{za}\\t{si}\\t{x}\\t{y}\\t{vs}\\t{vra}\\n')\n",
    "    print(\"file\" + name+\"_mockrings.txt\" + \"created\")\n"
   ]
  },
  {
   "cell_type": "code",
   "execution_count": 8,
   "metadata": {},
   "outputs": [],
   "source": [
    "def radius(f,l,s):\n",
    "    r = np.arange(f, l + s, s).round(3).tolist()\n",
    "    return r\n",
    "\n",
    "def arcsec (radius,d):\n",
    "    arc =[]\n",
    "    for r in radius:\n",
    "        a = (np.arctan((r*1000)/d))*206264\n",
    "        a = a.round(3)\n",
    "        arc.append(a)\n",
    "    return arc\n",
    "\n",
    "def arcsecs (z0,d):\n",
    "    arcs =[]\n",
    "    for z in z0:\n",
    "        a = (np.arctan(z/d))*206264\n",
    "        a = a.round(3)\n",
    "        arcs.append(a)\n",
    "    return arcs"
   ]
  },
  {
   "cell_type": "code",
   "execution_count": 9,
   "metadata": {},
   "outputs": [
    {
     "name": "stdout",
     "output_type": "stream",
     "text": [
      "filegalaxy_mockrings.txtcreated\n"
     ]
    }
   ],
   "source": [
    "r = radius(0.1,20,0.6)\n",
    "rarc = arcsec(r,10000000)\n",
    "v = velcurvetan(11, r)\n",
    "d = dispdown(5,r)\n",
    "inc = [60.000] * len(r)\n",
    "pa = [260.000] * len(r)\n",
    "z0pc = [0.200] * len(r)\n",
    "z0ar = arcsecs (z0pc,10000000)\n",
    "sig = profexpo(1,r)\n",
    "xpos = [520] * len(r)\n",
    "ypos = [520] * len(r)\n",
    "vsys = [556] * len(r)\n",
    "vrad = [5.000] * len(r)\n",
    "\n",
    "mockring(\"galaxy\", r, rarc, v,d,inc,pa,z0pc,z0ar,sig,xpos,ypos,vsys,vrad)"
   ]
  }
 ],
 "metadata": {
  "kernelspec": {
   "display_name": "base",
   "language": "python",
   "name": "python3"
  },
  "language_info": {
   "codemirror_mode": {
    "name": "ipython",
    "version": 3
   },
   "file_extension": ".py",
   "mimetype": "text/x-python",
   "name": "python",
   "nbconvert_exporter": "python",
   "pygments_lexer": "ipython3",
   "version": "3.12.2"
  }
 },
 "nbformat": 4,
 "nbformat_minor": 2
}
